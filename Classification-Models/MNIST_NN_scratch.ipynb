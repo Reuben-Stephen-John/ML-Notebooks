{
 "cells": [
  {
   "cell_type": "code",
   "execution_count": 1,
   "metadata": {},
   "outputs": [],
   "source": [
    "import numpy as np\n",
    "import pandas as pd\n",
    "from matplotlib import pyplot as plt\n"
   ]
  },
  {
   "cell_type": "code",
   "execution_count": 22,
   "metadata": {},
   "outputs": [
    {
     "data": {
      "text/html": [
       "<div>\n",
       "<style scoped>\n",
       "    .dataframe tbody tr th:only-of-type {\n",
       "        vertical-align: middle;\n",
       "    }\n",
       "\n",
       "    .dataframe tbody tr th {\n",
       "        vertical-align: top;\n",
       "    }\n",
       "\n",
       "    .dataframe thead th {\n",
       "        text-align: right;\n",
       "    }\n",
       "</style>\n",
       "<table border=\"1\" class=\"dataframe\">\n",
       "  <thead>\n",
       "    <tr style=\"text-align: right;\">\n",
       "      <th></th>\n",
       "      <th>label</th>\n",
       "      <th>pixel0</th>\n",
       "      <th>pixel1</th>\n",
       "      <th>pixel2</th>\n",
       "      <th>pixel3</th>\n",
       "      <th>pixel4</th>\n",
       "      <th>pixel5</th>\n",
       "      <th>pixel6</th>\n",
       "      <th>pixel7</th>\n",
       "      <th>pixel8</th>\n",
       "      <th>...</th>\n",
       "      <th>pixel774</th>\n",
       "      <th>pixel775</th>\n",
       "      <th>pixel776</th>\n",
       "      <th>pixel777</th>\n",
       "      <th>pixel778</th>\n",
       "      <th>pixel779</th>\n",
       "      <th>pixel780</th>\n",
       "      <th>pixel781</th>\n",
       "      <th>pixel782</th>\n",
       "      <th>pixel783</th>\n",
       "    </tr>\n",
       "  </thead>\n",
       "  <tbody>\n",
       "    <tr>\n",
       "      <th>0</th>\n",
       "      <td>1</td>\n",
       "      <td>0</td>\n",
       "      <td>0</td>\n",
       "      <td>0</td>\n",
       "      <td>0</td>\n",
       "      <td>0</td>\n",
       "      <td>0</td>\n",
       "      <td>0</td>\n",
       "      <td>0</td>\n",
       "      <td>0</td>\n",
       "      <td>...</td>\n",
       "      <td>0</td>\n",
       "      <td>0</td>\n",
       "      <td>0</td>\n",
       "      <td>0</td>\n",
       "      <td>0</td>\n",
       "      <td>0</td>\n",
       "      <td>0</td>\n",
       "      <td>0</td>\n",
       "      <td>0</td>\n",
       "      <td>0</td>\n",
       "    </tr>\n",
       "    <tr>\n",
       "      <th>1</th>\n",
       "      <td>0</td>\n",
       "      <td>0</td>\n",
       "      <td>0</td>\n",
       "      <td>0</td>\n",
       "      <td>0</td>\n",
       "      <td>0</td>\n",
       "      <td>0</td>\n",
       "      <td>0</td>\n",
       "      <td>0</td>\n",
       "      <td>0</td>\n",
       "      <td>...</td>\n",
       "      <td>0</td>\n",
       "      <td>0</td>\n",
       "      <td>0</td>\n",
       "      <td>0</td>\n",
       "      <td>0</td>\n",
       "      <td>0</td>\n",
       "      <td>0</td>\n",
       "      <td>0</td>\n",
       "      <td>0</td>\n",
       "      <td>0</td>\n",
       "    </tr>\n",
       "    <tr>\n",
       "      <th>2</th>\n",
       "      <td>1</td>\n",
       "      <td>0</td>\n",
       "      <td>0</td>\n",
       "      <td>0</td>\n",
       "      <td>0</td>\n",
       "      <td>0</td>\n",
       "      <td>0</td>\n",
       "      <td>0</td>\n",
       "      <td>0</td>\n",
       "      <td>0</td>\n",
       "      <td>...</td>\n",
       "      <td>0</td>\n",
       "      <td>0</td>\n",
       "      <td>0</td>\n",
       "      <td>0</td>\n",
       "      <td>0</td>\n",
       "      <td>0</td>\n",
       "      <td>0</td>\n",
       "      <td>0</td>\n",
       "      <td>0</td>\n",
       "      <td>0</td>\n",
       "    </tr>\n",
       "    <tr>\n",
       "      <th>3</th>\n",
       "      <td>4</td>\n",
       "      <td>0</td>\n",
       "      <td>0</td>\n",
       "      <td>0</td>\n",
       "      <td>0</td>\n",
       "      <td>0</td>\n",
       "      <td>0</td>\n",
       "      <td>0</td>\n",
       "      <td>0</td>\n",
       "      <td>0</td>\n",
       "      <td>...</td>\n",
       "      <td>0</td>\n",
       "      <td>0</td>\n",
       "      <td>0</td>\n",
       "      <td>0</td>\n",
       "      <td>0</td>\n",
       "      <td>0</td>\n",
       "      <td>0</td>\n",
       "      <td>0</td>\n",
       "      <td>0</td>\n",
       "      <td>0</td>\n",
       "    </tr>\n",
       "    <tr>\n",
       "      <th>4</th>\n",
       "      <td>0</td>\n",
       "      <td>0</td>\n",
       "      <td>0</td>\n",
       "      <td>0</td>\n",
       "      <td>0</td>\n",
       "      <td>0</td>\n",
       "      <td>0</td>\n",
       "      <td>0</td>\n",
       "      <td>0</td>\n",
       "      <td>0</td>\n",
       "      <td>...</td>\n",
       "      <td>0</td>\n",
       "      <td>0</td>\n",
       "      <td>0</td>\n",
       "      <td>0</td>\n",
       "      <td>0</td>\n",
       "      <td>0</td>\n",
       "      <td>0</td>\n",
       "      <td>0</td>\n",
       "      <td>0</td>\n",
       "      <td>0</td>\n",
       "    </tr>\n",
       "  </tbody>\n",
       "</table>\n",
       "<p>5 rows × 785 columns</p>\n",
       "</div>"
      ],
      "text/plain": [
       "   label  pixel0  pixel1  pixel2  pixel3  pixel4  pixel5  pixel6  pixel7  \\\n",
       "0      1       0       0       0       0       0       0       0       0   \n",
       "1      0       0       0       0       0       0       0       0       0   \n",
       "2      1       0       0       0       0       0       0       0       0   \n",
       "3      4       0       0       0       0       0       0       0       0   \n",
       "4      0       0       0       0       0       0       0       0       0   \n",
       "\n",
       "   pixel8  ...  pixel774  pixel775  pixel776  pixel777  pixel778  pixel779  \\\n",
       "0       0  ...         0         0         0         0         0         0   \n",
       "1       0  ...         0         0         0         0         0         0   \n",
       "2       0  ...         0         0         0         0         0         0   \n",
       "3       0  ...         0         0         0         0         0         0   \n",
       "4       0  ...         0         0         0         0         0         0   \n",
       "\n",
       "   pixel780  pixel781  pixel782  pixel783  \n",
       "0         0         0         0         0  \n",
       "1         0         0         0         0  \n",
       "2         0         0         0         0  \n",
       "3         0         0         0         0  \n",
       "4         0         0         0         0  \n",
       "\n",
       "[5 rows x 785 columns]"
      ]
     },
     "execution_count": 22,
     "metadata": {},
     "output_type": "execute_result"
    }
   ],
   "source": [
    "data=pd.read_csv('dataset\\\\train.csv')\n",
    "#label,pixel0,pixel1,pixel2,...(28X28=784)\n",
    "data.head()"
   ]
  },
  {
   "cell_type": "code",
   "execution_count": 11,
   "metadata": {},
   "outputs": [],
   "source": [
    "#Forward propagation\n",
    "\n",
    "#A[0]=X(784xm)\n",
    "#Z[1]  =  w[1]    A[0]  +   b[1]\n",
    "#(10xm)   10x784  784xm     10x1 => 10xm\n",
    "#A[1]  =  g(Z[1])  =  ReLU(Z[1])"
   ]
  },
  {
   "attachments": {
    "image.png": {
     "image/png": "[encoded data removed]"
    }
   },
   "cell_type": "markdown",
   "metadata": {},
   "source": [
    "![image.png](attachment:image.png)"
   ]
  },
  {
   "attachments": {
    "image.png": {
     "image/png": "[encoded data removed]"
    }
   },
   "cell_type": "markdown",
   "metadata": {},
   "source": [
    "![image.png](attachment:image.png)"
   ]
  },
  {
   "cell_type": "code",
   "execution_count": 37,
   "metadata": {},
   "outputs": [
    {
     "name": "stdout",
     "output_type": "stream",
     "text": [
      "42000 785\n"
     ]
    },
    {
     "data": {
      "image/png": "[encoded data removed]",
      "text/plain": [
       "<Figure size 640x480 with 1 Axes>"
      ]
     },
     "metadata": {},
     "output_type": "display_data"
    }
   ],
   "source": [
    "data = np.array(data)\n",
    "m, n = data.shape\n",
    "np.random.shuffle(data) # shuffle before splitting into dev and training sets\n",
    "print(m,n)\n",
    "data_dev = data[0:1000].T #take first 1000 training examples and transpose it (validation data)\n",
    "Y_dev = data_dev[0] # label of each image\n",
    "X_dev = data_dev[1:n] # image for each label\n",
    "X_dev = X_dev / 255. \n",
    "\n",
    "data_train = data[1000:m].T\n",
    "Y_train = data_train[0]\n",
    "X_train = data_train[1:n]\n",
    "X_train = X_train / 255.\n",
    "plt.hist(X_train)\n",
    "_,m_train = X_train.shape"
   ]
  },
  {
   "cell_type": "code",
   "execution_count": 13,
   "metadata": {},
   "outputs": [
    {
     "data": {
      "text/plain": [
       "array([6, 2, 0, ..., 6, 7, 7], dtype=int64)"
      ]
     },
     "execution_count": 13,
     "metadata": {},
     "output_type": "execute_result"
    }
   ],
   "source": [
    "Y_train"
   ]
  },
  {
   "cell_type": "code",
   "execution_count": 38,
   "metadata": {},
   "outputs": [],
   "source": [
    "def init_params():\n",
    "    W1 = np.random.rand(10, 784) - 0.5\n",
    "    b1 = np.random.rand(10, 1) - 0.5\n",
    "    W2 = np.random.rand(10, 10) - 0.5\n",
    "    b2 = np.random.rand(10, 1) - 0.5\n",
    "    return W1, b1, W2, b2\n",
    "\n",
    "def ReLU(Z):\n",
    "    return np.maximum(Z, 0)\n",
    "\n",
    "def softmax(Z):\n",
    "    A = np.exp(Z) / sum(np.exp(Z))\n",
    "    return A\n",
    "    \n",
    "def forward_prop(W1, b1, W2, b2, X):\n",
    "    Z1 = W1.dot(X) + b1\n",
    "    A1 = ReLU(Z1)\n",
    "    Z2 = W2.dot(A1) + b2\n",
    "    A2 = softmax(Z2)\n",
    "    return Z1, A1, Z2, A2\n",
    "\n",
    "def ReLU_deriv(Z):\n",
    "    return Z > 0\n",
    "\n",
    "def one_hot(Y):\n",
    "    one_hot_Y = np.zeros((Y.size, Y.max() + 1))\n",
    "    one_hot_Y[np.arange(Y.size), Y] = 1\n",
    "    one_hot_Y = one_hot_Y.T\n",
    "    return one_hot_Y\n",
    "\n",
    "def backward_prop(Z1, A1, Z2, A2, W1, W2, X, Y):\n",
    "    one_hot_Y = one_hot(Y)\n",
    "    dZ2 = A2 - one_hot_Y\n",
    "    dW2 = 1 / m * dZ2.dot(A1.T)\n",
    "    db2 = 1 / m * np.sum(dZ2)\n",
    "    dZ1 = W2.T.dot(dZ2) * ReLU_deriv(Z1)\n",
    "    dW1 = 1 / m * dZ1.dot(X.T)\n",
    "    db1 = 1 / m * np.sum(dZ1)\n",
    "    return dW1, db1, dW2, db2\n",
    "\n",
    "def update_params(W1, b1, W2, b2, dW1, db1, dW2, db2, alpha):\n",
    "    W1 = W1 - alpha * dW1\n",
    "    b1 = b1 - alpha * db1    \n",
    "    W2 = W2 - alpha * dW2  \n",
    "    b2 = b2 - alpha * db2    \n",
    "    return W1, b1, W2, b2"
   ]
  },
  {
   "cell_type": "code",
   "execution_count": 39,
   "metadata": {},
   "outputs": [],
   "source": [
    "def get_predictions(A2):\n",
    "    return np.argmax(A2, 0)\n",
    "\n",
    "def get_accuracy(predictions, Y):\n",
    "    print(predictions, Y)\n",
    "    return np.sum(predictions == Y) / Y.size\n",
    "\n",
    "def gradient_descent(X, Y, alpha, iterations):\n",
    "    W1, b1, W2, b2 = init_params()\n",
    "    for i in range(iterations):\n",
    "        Z1, A1, Z2, A2 = forward_prop(W1, b1, W2, b2, X)\n",
    "        dW1, db1, dW2, db2 = backward_prop(Z1, A1, Z2, A2, W1, W2, X, Y)\n",
    "        W1, b1, W2, b2 = update_params(W1, b1, W2, b2, dW1, db1, dW2, db2, alpha)\n",
    "        if i % 10 == 0:\n",
    "            print(\"Iteration: \", i)\n",
    "            predictions = get_predictions(A2)\n",
    "            print(get_accuracy(predictions, Y))\n",
    "    return W1, b1, W2, b2"
   ]
  },
  {
   "cell_type": "code",
   "execution_count": 40,
   "metadata": {},
   "outputs": [
    {
     "name": "stdout",
     "output_type": "stream",
     "text": [
      "Iteration:  0\n",
      "[8 5 0 ... 9 8 0] [5 0 1 ... 8 3 1]\n",
      "0.08812195121951219\n",
      "Iteration:  10\n",
      "[8 1 0 ... 9 0 1] [5 0 1 ... 8 3 1]\n",
      "0.12597560975609756\n",
      "Iteration:  20\n",
      "[8 0 0 ... 9 0 1] [5 0 1 ... 8 3 1]\n",
      "0.1758780487804878\n",
      "Iteration:  30\n",
      "[8 0 0 ... 9 0 1] [5 0 1 ... 8 3 1]\n",
      "0.24834146341463414\n",
      "Iteration:  40\n",
      "[8 0 1 ... 9 5 1] [5 0 1 ... 8 3 1]\n",
      "0.32234146341463416\n",
      "Iteration:  50\n",
      "[8 0 1 ... 9 5 0] [5 0 1 ... 8 3 1]\n",
      "0.36973170731707317\n",
      "Iteration:  60\n",
      "[8 0 1 ... 9 5 0] [5 0 1 ... 8 3 1]\n",
      "0.4119512195121951\n",
      "Iteration:  70\n",
      "[8 0 1 ... 9 5 0] [5 0 1 ... 8 3 1]\n",
      "0.4600487804878049\n",
      "Iteration:  80\n",
      "[8 0 1 ... 9 3 0] [5 0 1 ... 8 3 1]\n",
      "0.5065365853658537\n",
      "Iteration:  90\n",
      "[8 0 1 ... 7 3 1] [5 0 1 ... 8 3 1]\n",
      "0.5477560975609757\n",
      "Iteration:  100\n",
      "[8 0 1 ... 7 3 1] [5 0 1 ... 8 3 1]\n",
      "0.5856585365853658\n",
      "Iteration:  110\n",
      "[5 0 1 ... 7 3 1] [5 0 1 ... 8 3 1]\n",
      "0.6158292682926829\n",
      "Iteration:  120\n",
      "[5 0 1 ... 7 3 1] [5 0 1 ... 8 3 1]\n",
      "0.6417073170731707\n",
      "Iteration:  130\n",
      "[5 0 1 ... 4 3 1] [5 0 1 ... 8 3 1]\n",
      "0.6619268292682927\n",
      "Iteration:  140\n",
      "[5 0 1 ... 9 3 1] [5 0 1 ... 8 3 1]\n",
      "0.6789512195121952\n",
      "Iteration:  150\n",
      "[5 0 1 ... 9 3 1] [5 0 1 ... 8 3 1]\n",
      "0.6928292682926829\n",
      "Iteration:  160\n",
      "[5 0 1 ... 9 3 1] [5 0 1 ... 8 3 1]\n",
      "0.7055853658536585\n",
      "Iteration:  170\n",
      "[5 0 1 ... 8 3 1] [5 0 1 ... 8 3 1]\n",
      "0.7174634146341463\n",
      "Iteration:  180\n",
      "[5 0 1 ... 8 3 1] [5 0 1 ... 8 3 1]\n",
      "0.7270487804878049\n",
      "Iteration:  190\n",
      "[5 0 1 ... 8 3 1] [5 0 1 ... 8 3 1]\n",
      "0.7364878048780488\n",
      "Iteration:  200\n",
      "[5 0 1 ... 8 3 1] [5 0 1 ... 8 3 1]\n",
      "0.7437073170731707\n",
      "Iteration:  210\n",
      "[5 0 1 ... 8 3 1] [5 0 1 ... 8 3 1]\n",
      "0.7518292682926829\n",
      "Iteration:  220\n",
      "[5 0 1 ... 8 3 1] [5 0 1 ... 8 3 1]\n",
      "0.758390243902439\n",
      "Iteration:  230\n",
      "[5 0 1 ... 8 3 1] [5 0 1 ... 8 3 1]\n",
      "0.7651219512195122\n",
      "Iteration:  240\n",
      "[5 0 1 ... 8 3 1] [5 0 1 ... 8 3 1]\n",
      "0.770390243902439\n",
      "Iteration:  250\n",
      "[5 0 1 ... 8 3 1] [5 0 1 ... 8 3 1]\n",
      "0.7758536585365854\n",
      "Iteration:  260\n",
      "[5 0 1 ... 8 3 1] [5 0 1 ... 8 3 1]\n",
      "0.7806829268292683\n",
      "Iteration:  270\n",
      "[5 0 1 ... 8 3 1] [5 0 1 ... 8 3 1]\n",
      "0.785\n",
      "Iteration:  280\n",
      "[5 0 1 ... 8 3 1] [5 0 1 ... 8 3 1]\n",
      "0.7899024390243903\n",
      "Iteration:  290\n",
      "[5 0 1 ... 8 3 1] [5 0 1 ... 8 3 1]\n",
      "0.7942926829268293\n",
      "Iteration:  300\n",
      "[5 0 1 ... 8 3 1] [5 0 1 ... 8 3 1]\n",
      "0.7977317073170732\n",
      "Iteration:  310\n",
      "[5 0 1 ... 8 3 1] [5 0 1 ... 8 3 1]\n",
      "0.8015609756097561\n",
      "Iteration:  320\n",
      "[5 0 1 ... 8 3 1] [5 0 1 ... 8 3 1]\n",
      "0.804219512195122\n",
      "Iteration:  330\n",
      "[5 0 1 ... 8 3 1] [5 0 1 ... 8 3 1]\n",
      "0.8070975609756098\n",
      "Iteration:  340\n",
      "[5 0 1 ... 8 3 1] [5 0 1 ... 8 3 1]\n",
      "0.8097317073170732\n",
      "Iteration:  350\n",
      "[5 0 1 ... 8 3 1] [5 0 1 ... 8 3 1]\n",
      "0.8126097560975609\n",
      "Iteration:  360\n",
      "[5 0 1 ... 8 3 1] [5 0 1 ... 8 3 1]\n",
      "0.8149512195121951\n",
      "Iteration:  370\n",
      "[5 0 1 ... 8 3 1] [5 0 1 ... 8 3 1]\n",
      "0.8170243902439024\n",
      "Iteration:  380\n",
      "[5 0 1 ... 8 3 1] [5 0 1 ... 8 3 1]\n",
      "0.8192439024390243\n",
      "Iteration:  390\n",
      "[5 0 1 ... 8 3 1] [5 0 1 ... 8 3 1]\n",
      "0.8219024390243902\n",
      "Iteration:  400\n",
      "[5 0 1 ... 8 3 1] [5 0 1 ... 8 3 1]\n",
      "0.8238536585365853\n",
      "Iteration:  410\n",
      "[5 0 1 ... 8 3 1] [5 0 1 ... 8 3 1]\n",
      "0.8258536585365853\n",
      "Iteration:  420\n",
      "[5 0 1 ... 8 3 1] [5 0 1 ... 8 3 1]\n",
      "0.827560975609756\n",
      "Iteration:  430\n",
      "[5 0 1 ... 8 3 1] [5 0 1 ... 8 3 1]\n",
      "0.8287073170731707\n",
      "Iteration:  440\n",
      "[5 0 1 ... 8 3 1] [5 0 1 ... 8 3 1]\n",
      "0.8300731707317073\n",
      "Iteration:  450\n",
      "[5 0 1 ... 8 3 1] [5 0 1 ... 8 3 1]\n",
      "0.831780487804878\n",
      "Iteration:  460\n",
      "[5 0 1 ... 8 3 1] [5 0 1 ... 8 3 1]\n",
      "0.833390243902439\n",
      "Iteration:  470\n",
      "[5 0 1 ... 8 3 1] [5 0 1 ... 8 3 1]\n",
      "0.8348292682926829\n",
      "Iteration:  480\n",
      "[5 0 1 ... 8 3 1] [5 0 1 ... 8 3 1]\n",
      "0.8359268292682926\n",
      "Iteration:  490\n",
      "[5 0 1 ... 8 3 1] [5 0 1 ... 8 3 1]\n",
      "0.8375609756097561\n"
     ]
    }
   ],
   "source": [
    "W1, b1, W2, b2 = gradient_descent(X_train, Y_train, 0.10, 500)"
   ]
  },
  {
   "cell_type": "code",
   "execution_count": 41,
   "metadata": {},
   "outputs": [],
   "source": [
    "def make_predictions(X, W1, b1, W2, b2):\n",
    "    _, _, _, A2 = forward_prop(W1, b1, W2, b2, X)\n",
    "    predictions = get_predictions(A2)\n",
    "    return predictions\n",
    "\n",
    "def test_prediction(index, W1, b1, W2, b2):\n",
    "    current_image = X_train[:, index, None]\n",
    "    prediction = make_predictions(X_train[:, index, None], W1, b1, W2, b2)\n",
    "    label = Y_train[index]\n",
    "    print(\"Prediction: \", prediction)\n",
    "    print(\"Label: \", label)\n",
    "    \n",
    "    current_image = current_image.reshape((28, 28)) * 255\n",
    "    plt.gray()\n",
    "    plt.imshow(current_image, interpolation='nearest')\n",
    "    plt.show()"
   ]
  },
  {
   "cell_type": "code",
   "execution_count": 42,
   "metadata": {},
   "outputs": [
    {
     "name": "stdout",
     "output_type": "stream",
     "text": [
      "Prediction:  [5]\n",
      "Label:  5\n"
     ]
    },
    {
     "data": {
      "image/png": "[encoded data removed]",
      "text/plain": [
       "<Figure size 640x480 with 1 Axes>"
      ]
     },
     "metadata": {},
     "output_type": "display_data"
    },
    {
     "name": "stdout",
     "output_type": "stream",
     "text": [
      "Prediction:  [0]\n",
      "Label:  0\n"
     ]
    },
    {
     "data": {
      "image/png": "[encoded data removed]",
      "text/plain": [
       "<Figure size 640x480 with 1 Axes>"
      ]
     },
     "metadata": {},
     "output_type": "display_data"
    },
    {
     "name": "stdout",
     "output_type": "stream",
     "text": [
      "Prediction:  [1]\n",
      "Label:  1\n"
     ]
    },
    {
     "data": {
      "image/png": "[encoded data removed]",
      "text/plain": [
       "<Figure size 640x480 with 1 Axes>"
      ]
     },
     "metadata": {},
     "output_type": "display_data"
    },
    {
     "name": "stdout",
     "output_type": "stream",
     "text": [
      "Prediction:  [4]\n",
      "Label:  4\n"
     ]
    },
    {
     "data": {
      "image/png": "[encoded data removed]",
      "text/plain": [
       "<Figure size 640x480 with 1 Axes>"
      ]
     },
     "metadata": {},
     "output_type": "display_data"
    }
   ],
   "source": [
    "test_prediction(0, W1, b1, W2, b2)\n",
    "test_prediction(1, W1, b1, W2, b2)\n",
    "test_prediction(2, W1, b1, W2, b2)\n",
    "test_prediction(3, W1, b1, W2, b2)"
   ]
  },
  {
   "cell_type": "code",
   "execution_count": null,
   "metadata": {},
   "outputs": [],
   "source": []
  }
 ],
 "metadata": {
  "kernelspec": {
   "display_name": "Python 3",
   "language": "python",
   "name": "python3"
  },
  "language_info": {
   "codemirror_mode": {
    "name": "ipython",
    "version": 3
   },
   "file_extension": ".py",
   "mimetype": "text/x-python",
   "name": "python",
   "nbconvert_exporter": "python",
   "pygments_lexer": "ipython3",
   "version": "3.10.10"
  },
  "orig_nbformat": 4
 },
 "nbformat": 4,
 "nbformat_minor": 2
}
