{
 "cells": [
  {
   "cell_type": "code",
   "execution_count": 1,
   "metadata": {},
   "outputs": [],
   "source": [
    "import os\n",
    "import torch\n",
    "import torchvision\n",
    "from torch.utils.data import random_split\n",
    "import torchvision.models as models\n",
    "import torch.nn as nn\n",
    "import torch.nn.functional as F"
   ]
  },
  {
   "cell_type": "code",
   "execution_count": 19,
   "metadata": {},
   "outputs": [
    {
     "name": "stderr",
     "output_type": "stream",
     "text": [
      "usage: kaggle kernels output [-h] [-p PATH] [-w] [-o] [-q] [kernel]\n",
      "kaggle kernels output: error: argument -p/--path: expected one argument\n"
     ]
    }
   ],
   "source": [
    "!kaggle kernels output aadhavvignesh/pytorch-garbage-classification-95-accuracy -p /path/to/dest"
   ]
  },
  {
   "cell_type": "code",
   "execution_count": 18,
   "metadata": {},
   "outputs": [
    {
     "ename": "NotADirectoryError",
     "evalue": "[WinError 267] The directory name is invalid: '/path/to/dest\\\\pytorch-garbage-classification-95-accuracy.log'",
     "output_type": "error",
     "traceback": [
      "\u001b[1;31m---------------------------------------------------------------------------\u001b[0m",
      "\u001b[1;31mNotADirectoryError\u001b[0m                        Traceback (most recent call last)",
      "Cell \u001b[1;32mIn[18], line 3\u001b[0m\n\u001b[0;32m      1\u001b[0m data_dir  \u001b[39m=\u001b[39m \u001b[39m'\u001b[39m\u001b[39m/path/to/dest\u001b[39m\u001b[39m\\\u001b[39m\u001b[39mpytorch-garbage-classification-95-accuracy.log\u001b[39m\u001b[39m'\u001b[39m\n\u001b[1;32m----> 3\u001b[0m classes \u001b[39m=\u001b[39m os\u001b[39m.\u001b[39;49mlistdir(data_dir)\n\u001b[0;32m      4\u001b[0m \u001b[39mprint\u001b[39m(classes)\n",
      "\u001b[1;31mNotADirectoryError\u001b[0m: [WinError 267] The directory name is invalid: '/path/to/dest\\\\pytorch-garbage-classification-95-accuracy.log'"
     ]
    }
   ],
   "source": [
    "data_dir  = '/path/to/dest\\pytorch-garbage-classification-95-accuracy.log'\n",
    "\n",
    "classes = os.listdir(data_dir)\n",
    "print(classes)"
   ]
  }
 ],
 "metadata": {
  "kernelspec": {
   "display_name": "Python 3",
   "language": "python",
   "name": "python3"
  },
  "language_info": {
   "codemirror_mode": {
    "name": "ipython",
    "version": 3
   },
   "file_extension": ".py",
   "mimetype": "text/x-python",
   "name": "python",
   "nbconvert_exporter": "python",
   "pygments_lexer": "ipython3",
   "version": "3.11.2"
  },
  "orig_nbformat": 4,
  "vscode": {
   "interpreter": {
    "hash": "225b81b4da9be4ed1df96d859c68758ae0aec31df9b393d11ff92c295318b548"
   }
  }
 },
 "nbformat": 4,
 "nbformat_minor": 2
}
