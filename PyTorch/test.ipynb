{
 "cells": [
  {
   "cell_type": "code",
   "execution_count": 1,
   "metadata": {},
   "outputs": [
    {
     "name": "stdout",
     "output_type": "stream",
     "text": [
      "tensor([[0.5706, 0.5384, 0.1324],\n",
      "        [0.1530, 0.4136, 0.9982],\n",
      "        [0.1427, 0.9017, 0.5128],\n",
      "        [0.9440, 0.2021, 0.1138],\n",
      "        [0.7237, 0.5788, 0.2425]])\n"
     ]
    }
   ],
   "source": [
    "import torch\n",
    "x = torch.rand(5, 3)\n",
    "print(x)"
   ]
  }
 ],
 "metadata": {
  "kernelspec": {
   "display_name": "Python 3",
   "language": "python",
   "name": "python3"
  },
  "language_info": {
   "codemirror_mode": {
    "name": "ipython",
    "version": 3
   },
   "file_extension": ".py",
   "mimetype": "text/x-python",
   "name": "python",
   "nbconvert_exporter": "python",
   "pygments_lexer": "ipython3",
   "version": "3.11.2"
  },
  "orig_nbformat": 4,
  "vscode": {
   "interpreter": {
    "hash": "225b81b4da9be4ed1df96d859c68758ae0aec31df9b393d11ff92c295318b548"
   }
  }
 },
 "nbformat": 4,
 "nbformat_minor": 2
}
